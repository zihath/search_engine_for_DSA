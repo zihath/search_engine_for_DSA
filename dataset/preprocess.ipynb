{
 "cells": [
  {
   "cell_type": "code",
   "execution_count": 59,
   "metadata": {},
   "outputs": [],
   "source": [
    "with open(\"C:\\git repos\\dsa_search_engine\\dataset\\leetcode\\lc-greedy.txt\", \"r\") as file:\n",
    "    lines = file.readlines()"
   ]
  },
  {
   "cell_type": "code",
   "execution_count": 60,
   "metadata": {},
   "outputs": [
    {
     "data": {
      "text/plain": [
       "['\\n',\n",
       " '11. Container With Most Water\\n',\n",
       " 'Med.\\n',\n",
       " '\\n',\n",
       " '44. Wildcard Matching\\n',\n",
       " 'Hard\\n',\n",
       " '\\n',\n",
       " '45. Jump Game II\\n',\n",
       " 'Med.\\n',\n",
       " '\\n',\n",
       " '55. Jump Game\\n',\n",
       " 'Med.\\n',\n",
       " '\\n',\n",
       " '122. Best Time to Buy and Sell Stock II\\n',\n",
       " 'Med.\\n',\n",
       " '\\n',\n",
       " '134. Gas Station\\n',\n",
       " 'Med.\\n',\n",
       " '\\n',\n",
       " '135. Candy\\n',\n",
       " 'Hard\\n',\n",
       " '\\n',\n",
       " '179. Largest Number\\n',\n",
       " 'Med.\\n',\n",
       " '\\n',\n",
       " '253. Meeting Rooms II\\n',\n",
       " 'Med.\\n',\n",
       " '\\n',\n",
       " '280. Wiggle Sort\\n',\n",
       " 'Med.\\n',\n",
       " '\\n',\n",
       " '316. Remove Duplicate Letters\\n',\n",
       " 'Med.\\n',\n",
       " '\\n',\n",
       " '321. Create Maximum Number\\n',\n",
       " 'Hard\\n',\n",
       " '\\n',\n",
       " '324. Wiggle Sort II\\n',\n",
       " 'Med.\\n',\n",
       " '\\n',\n",
       " '330. Patching Array\\n',\n",
       " 'Hard\\n',\n",
       " '\\n',\n",
       " '334. Increasing Triplet Subsequence\\n',\n",
       " 'Med.\\n',\n",
       " '\\n',\n",
       " '358. Rearrange String k Distance Apart\\n',\n",
       " 'Hard\\n',\n",
       " '\\n',\n",
       " '376. Wiggle Subsequence\\n',\n",
       " 'Med.\\n',\n",
       " '\\n',\n",
       " '397. Integer Replacement\\n',\n",
       " 'Med.\\n',\n",
       " '\\n',\n",
       " '402. Remove K Digits\\n',\n",
       " 'Med.\\n',\n",
       " '\\n',\n",
       " '409. Longest Palindrome\\n',\n",
       " 'Easy\\n',\n",
       " '\\n',\n",
       " '410. Split Array Largest Sum\\n',\n",
       " 'Hard\\n',\n",
       " '\\n',\n",
       " '420. Strong Password Checker\\n',\n",
       " 'Hard\\n',\n",
       " '\\n',\n",
       " '435. Non-overlapping Intervals\\n',\n",
       " 'Med.\\n',\n",
       " '\\n',\n",
       " '452. Minimum Number of Arrows to Burst Balloons\\n',\n",
       " 'Med.\\n',\n",
       " '\\n',\n",
       " '455. Assign Cookies\\n',\n",
       " 'Easy\\n',\n",
       " '\\n',\n",
       " '484. Find Permutation\\n',\n",
       " 'Med.\\n',\n",
       " '\\n',\n",
       " '502. IPO\\n',\n",
       " 'Hard\\n',\n",
       " '\\n',\n",
       " '517. Super Washing Machines\\n',\n",
       " 'Hard\\n',\n",
       " '\\n',\n",
       " '527. Word Abbreviation\\n',\n",
       " 'Hard\\n',\n",
       " '\\n',\n",
       " '555. Split Concatenated Strings\\n',\n",
       " 'Med.\\n',\n",
       " '\\n',\n",
       " '561. Array Partition\\n',\n",
       " 'Easy\\n',\n",
       " '\\n',\n",
       " '581. Shortest Unsorted Continuous Subarray\\n',\n",
       " 'Med.\\n',\n",
       " '\\n',\n",
       " '605. Can Place Flowers\\n',\n",
       " 'Easy\\n',\n",
       " '\\n',\n",
       " '611. Valid Triangle Number\\n',\n",
       " 'Med.\\n',\n",
       " '\\n',\n",
       " '621. Task Scheduler\\n',\n",
       " 'Med.\\n',\n",
       " '\\n',\n",
       " '624. Maximum Distance in Arrays\\n',\n",
       " 'Med.\\n',\n",
       " '\\n',\n",
       " '625. Minimum Factorization\\n',\n",
       " 'Med.\\n',\n",
       " '\\n',\n",
       " '630. Course Schedule III\\n',\n",
       " 'Hard\\n',\n",
       " '\\n',\n",
       " '632. Smallest Range Covering Elements from K Lists\\n',\n",
       " 'Hard\\n',\n",
       " '\\n',\n",
       " '646. Maximum Length of Pair Chain\\n',\n",
       " 'Med.\\n',\n",
       " '\\n',\n",
       " '649. Dota2 Senate\\n',\n",
       " 'Med.\\n',\n",
       " '\\n',\n",
       " '659. Split Array into Consecutive Subsequences\\n',\n",
       " 'Med.\\n',\n",
       " '\\n',\n",
       " '670. Maximum Swap\\n',\n",
       " 'Med.\\n',\n",
       " '\\n',\n",
       " '678. Valid Parenthesis String\\n',\n",
       " 'Med.\\n',\n",
       " '\\n',\n",
       " '680. Valid Palindrome II\\n',\n",
       " 'Easy\\n',\n",
       " '\\n',\n",
       " '714. Best Time to Buy and Sell Stock with Transaction Fee\\n',\n",
       " 'Med.\\n',\n",
       " '\\n',\n",
       " '738. Monotone Increasing Digits\\n',\n",
       " 'Med.\\n',\n",
       " '\\n',\n",
       " '757. Set Intersection Size At Least Two\\n',\n",
       " 'Hard\\n',\n",
       " '\\n',\n",
       " '763. Partition Labels\\n',\n",
       " 'Med.\\n',\n",
       " '\\n',\n",
       " '765. Couples Holding Hands\\n',\n",
       " 'Hard\\n',\n",
       " '\\n',\n",
       " '767. Reorganize String\\n',\n",
       " 'Med.\\n',\n",
       " '\\n',\n",
       " '768. Max Chunks To Make Sorted II\\n',\n",
       " 'Hard\\n',\n",
       " '\\n',\n",
       " '769. Max Chunks To Make Sorted\\n',\n",
       " 'Med.\\n',\n",
       " '\\n',\n",
       " '781. Rabbits in Forest\\n',\n",
       " 'Med.\\n',\n",
       " '\\n',\n",
       " '807. Max Increase to Keep City Skyline\\n',\n",
       " 'Med.\\n',\n",
       " '\\n',\n",
       " '826. Most Profit Assigning Work\\n',\n",
       " 'Med.\\n',\n",
       " '\\n',\n",
       " '846. Hand of Straights\\n',\n",
       " 'Med.\\n',\n",
       " '\\n',\n",
       " '857. Minimum Cost to Hire K Workers\\n',\n",
       " 'Hard\\n',\n",
       " '\\n',\n",
       " '860. Lemonade Change\\n',\n",
       " 'Easy\\n',\n",
       " '\\n',\n",
       " '861. Score After Flipping Matrix\\n',\n",
       " 'Med.\\n',\n",
       " '\\n',\n",
       " '870. Advantage Shuffle\\n',\n",
       " 'Med.\\n',\n",
       " '\\n',\n",
       " '871. Minimum Number of Refueling Stops\\n',\n",
       " 'Hard\\n',\n",
       " '\\n',\n",
       " '881. Boats to Save People\\n',\n",
       " 'Med.\\n',\n",
       " '\\n',\n",
       " '910. Smallest Range II\\n',\n",
       " 'Med.\\n',\n",
       " '\\n',\n",
       " '921. Minimum Add to Make Parentheses Valid\\n',\n",
       " 'Med.\\n',\n",
       " '\\n',\n",
       " '936. Stamping The Sequence\\n',\n",
       " 'Hard\\n',\n",
       " '\\n',\n",
       " '942. DI String Match\\n',\n",
       " 'Easy\\n',\n",
       " '\\n',\n",
       " '945. Minimum Increment to Make Array Unique\\n',\n",
       " 'Med.\\n',\n",
       " '\\n',\n",
       " '948. Bag of Tokens\\n',\n",
       " 'Med.\\n',\n",
       " '\\n',\n",
       " '954. Array of Doubled Pairs\\n',\n",
       " 'Med.\\n',\n",
       " '\\n',\n",
       " '955. Delete Columns to Make Sorted II\\n',\n",
       " 'Med.\\n',\n",
       " '\\n',\n",
       " '969. Pancake Sorting\\n',\n",
       " 'Med.\\n',\n",
       " '\\n',\n",
       " '976. Largest Perimeter Triangle\\n',\n",
       " 'Easy\\n',\n",
       " '\\n',\n",
       " '984. String Without AAA or BBB\\n',\n",
       " 'Med.\\n',\n",
       " '\\n',\n",
       " '991. Broken Calculator\\n',\n",
       " 'Med.\\n',\n",
       " '\\n',\n",
       " '1005. Maximize Sum Of Array After K Negations\\n',\n",
       " 'Easy\\n',\n",
       " '\\n',\n",
       " '1007. Minimum Domino Rotations For Equal Row\\n',\n",
       " 'Med.\\n',\n",
       " '\\n',\n",
       " '1013. Partition Array Into Three Parts With Equal Sum\\n',\n",
       " 'Easy\\n',\n",
       " '\\n',\n",
       " '1024. Video Stitching\\n',\n",
       " 'Med.\\n',\n",
       " '\\n',\n",
       " '1029. Two City Scheduling\\n',\n",
       " 'Med.\\n',\n",
       " '\\n',\n",
       " '1053. Previous Permutation With One Swap\\n',\n",
       " 'Med.\\n',\n",
       " '\\n',\n",
       " '1054. Distant Barcodes\\n',\n",
       " 'Med.\\n',\n",
       " '\\n',\n",
       " '1055. Shortest Way to Form String\\n',\n",
       " 'Med.\\n',\n",
       " '\\n',\n",
       " '1057. Campus Bikes\\n',\n",
       " 'Med.\\n',\n",
       " '\\n',\n",
       " '1058. Minimize Rounding Error to Meet Target\\n',\n",
       " 'Med.\\n',\n",
       " '\\n',\n",
       " '1081. Smallest Subsequence of Distinct Characters\\n',\n",
       " 'Med.\\n',\n",
       " '\\n',\n",
       " '1090. Largest Values From Labels\\n',\n",
       " 'Med.\\n',\n",
       " '\\n',\n",
       " '1130. Minimum Cost Tree From Leaf Values\\n',\n",
       " 'Med.\\n',\n",
       " '\\n',\n",
       " '1144. Decrease Elements To Make Array Zigzag\\n',\n",
       " 'Med.\\n',\n",
       " '\\n',\n",
       " '1147. Longest Chunked Palindrome Decomposition\\n',\n",
       " 'Hard\\n',\n",
       " '\\n',\n",
       " '1167. Minimum Cost to Connect Sticks\\n',\n",
       " 'Med.\\n',\n",
       " '\\n',\n",
       " '1183. Maximum Number of Ones\\n',\n",
       " 'Hard\\n',\n",
       " '\\n',\n",
       " '1196. How Many Apples Can You Put into the Basket\\n',\n",
       " 'Easy\\n',\n",
       " '\\n']"
      ]
     },
     "execution_count": 60,
     "metadata": {},
     "output_type": "execute_result"
    }
   ],
   "source": [
    "lines"
   ]
  },
  {
   "cell_type": "code",
   "execution_count": 61,
   "metadata": {},
   "outputs": [],
   "source": [
    "def extract_text_after_number(s):\n",
    "    # Split the string by the first occurrence of the dot followed by a space\n",
    "    name = s.split('. ', 1)[1] if '. ' in s else s\n",
    "\n",
    "    return name[:-1]"
   ]
  },
  {
   "cell_type": "code",
   "execution_count": 68,
   "metadata": {},
   "outputs": [],
   "source": []
  },
  {
   "cell_type": "code",
   "execution_count": 62,
   "metadata": {},
   "outputs": [],
   "source": [
    "problem_titles = []\n",
    "difficulty = []\n",
    "\n",
    "for line in lines:\n",
    "    if line.strip() != \"\":\n",
    "        f = line[0]\n",
    "\n",
    "        if(f.isdigit()):\n",
    "            name = extract_text_after_number(line)\n",
    "            problem_titles.append(name.lower())\n",
    "        else:\n",
    "            difficulty.append(line[:-1])\n"
   ]
  },
  {
   "cell_type": "code",
   "execution_count": 63,
   "metadata": {},
   "outputs": [
    {
     "name": "stdout",
     "output_type": "stream",
     "text": [
      "['container with most water', 'wildcard matching', 'jump game ii', 'jump game', 'best time to buy and sell stock ii', 'gas station', 'candy', 'largest number', 'meeting rooms ii', 'wiggle sort', 'remove duplicate letters', 'create maximum number', 'wiggle sort ii', 'patching array', 'increasing triplet subsequence', 'rearrange string k distance apart', 'wiggle subsequence', 'integer replacement', 'remove k digits', 'longest palindrome', 'split array largest sum', 'strong password checker', 'non-overlapping intervals', 'minimum number of arrows to burst balloons', 'assign cookies', 'find permutation', 'ipo', 'super washing machines', 'word abbreviation', 'split concatenated strings', 'array partition', 'shortest unsorted continuous subarray', 'can place flowers', 'valid triangle number', 'task scheduler', 'maximum distance in arrays', 'minimum factorization', 'course schedule iii', 'smallest range covering elements from k lists', 'maximum length of pair chain', 'dota2 senate', 'split array into consecutive subsequences', 'maximum swap', 'valid parenthesis string', 'valid palindrome ii', 'best time to buy and sell stock with transaction fee', 'monotone increasing digits', 'set intersection size at least two', 'partition labels', 'couples holding hands', 'reorganize string', 'max chunks to make sorted ii', 'max chunks to make sorted', 'rabbits in forest', 'max increase to keep city skyline', 'most profit assigning work', 'hand of straights', 'minimum cost to hire k workers', 'lemonade change', 'score after flipping matrix', 'advantage shuffle', 'minimum number of refueling stops', 'boats to save people', 'smallest range ii', 'minimum add to make parentheses valid', 'stamping the sequence', 'di string match', 'minimum increment to make array unique', 'bag of tokens', 'array of doubled pairs', 'delete columns to make sorted ii', 'pancake sorting', 'largest perimeter triangle', 'string without aaa or bbb', 'broken calculator', 'maximize sum of array after k negations', 'minimum domino rotations for equal row', 'partition array into three parts with equal sum', 'video stitching', 'two city scheduling', 'previous permutation with one swap', 'distant barcodes', 'shortest way to form string', 'campus bikes', 'minimize rounding error to meet target', 'smallest subsequence of distinct characters', 'largest values from labels', 'minimum cost tree from leaf values', 'decrease elements to make array zigzag', 'longest chunked palindrome decomposition', 'minimum cost to connect sticks', 'maximum number of ones', 'how many apples can you put into the basket']\n"
     ]
    }
   ],
   "source": [
    "print(problem_titles)"
   ]
  },
  {
   "cell_type": "code",
   "execution_count": 64,
   "metadata": {},
   "outputs": [
    {
     "name": "stdout",
     "output_type": "stream",
     "text": [
      "93\n"
     ]
    }
   ],
   "source": [
    "print(len(problem_titles))"
   ]
  },
  {
   "cell_type": "code",
   "execution_count": 65,
   "metadata": {},
   "outputs": [
    {
     "name": "stdout",
     "output_type": "stream",
     "text": [
      "93\n"
     ]
    }
   ],
   "source": [
    "print(len(difficulty))"
   ]
  },
  {
   "cell_type": "code",
   "execution_count": 66,
   "metadata": {},
   "outputs": [],
   "source": [
    "import re\n",
    "\n",
    "problem_links = []\n",
    "\n",
    "for  text in problem_titles:\n",
    "    cleaned_text = re.sub(r'[^A-Za-z\\s]', '', text)  # Keep only letters and spaces\n",
    "    cleaned_text = re.sub(r'\\s+', '-', cleaned_text)  \n",
    "    \n",
    "    st = \"https://leetcode.com/problems/\" + cleaned_text + \"/description/\"\n",
    "    problem_links.append(st)"
   ]
  },
  {
   "cell_type": "code",
   "execution_count": 67,
   "metadata": {},
   "outputs": [
    {
     "name": "stdout",
     "output_type": "stream",
     "text": [
      "93\n"
     ]
    }
   ],
   "source": [
    "print(len(problem_links))"
   ]
  },
  {
   "cell_type": "code",
   "execution_count": 7,
   "metadata": {},
   "outputs": [
    {
     "name": "stdout",
     "output_type": "stream",
     "text": [
      "Processing complete. The modified file is saved.\n"
     ]
    }
   ],
   "source": [
    "# Define the input and output file paths\n",
    "input_file_path = \"CF.txt\"\n",
    "output_file_path = \"C:\\git repos\\dsa_search_engine\\Code-forces\\CF-binary_search.txt\"\n",
    "\n",
    "# Open the input file and output file\n",
    "with open(input_file_path, \"r\") as infile, open(output_file_path, \"w\") as outfile:\n",
    "    # Process each line in the input file\n",
    "    for line in infile:\n",
    "        # Remove the unwanted text from the line and write to the output file\n",
    "        modified_line = line.replace(\"Submit Add to favourites\", \"\").strip()\n",
    "        if modified_line:  # To avoid writing empty lines\n",
    "            outfile.write(modified_line + \"\\n\")\n",
    "\n",
    "print(\"Processing complete. The modified file is saved.\")\n"
   ]
  },
  {
   "cell_type": "code",
   "execution_count": 8,
   "metadata": {},
   "outputs": [
    {
     "name": "stdout",
     "output_type": "stream",
     "text": [
      "Processing complete. The file has been updated.\n"
     ]
    }
   ],
   "source": [
    "import re\n",
    "\n",
    "# Define the input/output file path (since it's the same file)\n",
    "file_path = \"C:\\git repos\\dsa_search_engine\\Code-forces\\CF-binary_search.txt\"\n",
    "\n",
    "# Regular expression pattern to match \"x\" followed by digits\n",
    "pattern = r\"x\\d+\"\n",
    "\n",
    "# Read the file, process each line, and store the modified lines\n",
    "with open(file_path, \"r\") as infile:\n",
    "    lines = infile.readlines()\n",
    "\n",
    "# Open the file in write mode to overwrite it with modified content\n",
    "with open(file_path, \"w\") as outfile:\n",
    "    for line in lines:\n",
    "        # Remove the unwanted text and numbers starting with \"x\"\n",
    "        modified_line = re.sub(pattern, \"\", line.replace(\"Submit Add to favourites\", \"\")).strip()\n",
    "        if modified_line:  # To avoid writing empty lines\n",
    "            outfile.write(modified_line + \"\\n\")\n",
    "\n",
    "print(\"Processing complete. The file has been updated.\")\n"
   ]
  },
  {
   "cell_type": "code",
   "execution_count": null,
   "metadata": {},
   "outputs": [],
   "source": [
    "https://www.codechef.com/practice-old/tags/dynamic-programming"
   ]
  },
  {
   "cell_type": "markdown",
   "metadata": {},
   "source": [
    "CODE FORCES"
   ]
  },
  {
   "cell_type": "code",
   "execution_count": 61,
   "metadata": {},
   "outputs": [
    {
     "name": "stdout",
     "output_type": "stream",
     "text": [
      "Problem IDs: ['2021C2', '2020C', '2018B', '2018A', '2009C', '2008E', '2005E1', '2005C', '2004D', '2003D2', '2001D', '2000F', '2000D', '1999E', '1999D', '1999B', '1998C', '1996E', '1995C', '1993C', '1992E', '1992D', '1990D', '1988B', '1988A', '1986D', '1985H1', '1985D', '1984D', '1984B', '1983C', '1983B', '1982D', '1982B', '1981C', '1980E', '1980D', '1978E', '1978D', '1978C', '1976D', '1976C', '1976B', '1975E', '1974F', '1974D', '1973C', '1973A', '1971F', '1971D']\n",
      "Problem Titles: ['Adjust The Presentation (Hard Version)', 'Bitwise Balancing', 'Speedbreaker', 'Cards Partition', 'The Legend of Freya the Frog', 'Alternating String', 'Subtangle Game (Easy Version)', 'Lazy Narek', 'Colored Portals', 'Turtle and a MEX Problem (Hard Version)', 'Longest Max Min Subsequence', 'Color Rows and Columns', 'Right Left Wrong', 'Triple Operations', \"Slavic's Exam\", 'Card Game', 'Perform Operations to Maximize Score', 'Decode', 'Squaring', 'Light Switches', \"Novice's Mistake\", 'Test of Love', 'Grid Puzzle', 'Make Majority', 'Split the Multiset', 'Mathematical Problem', 'Maximize the Largest Component (Easy Version)', 'Manhattan Circle', \"''a'' String Problem\", 'Large Addition', 'Have Your Cake and Eat It Too', 'Corner Twist', 'Beauty of the mountains', 'Collatz Conjecture', 'Turtle and an Incomplete Sequence', 'Permutation of Rows and Columns', 'GCD-sequence', 'Computing Machine', 'Elections', 'Manhattan Permutations', 'Invertible Bracket Sequences', 'Job Interview', 'Increase/Decrease/Copy', 'Chain Queries', 'Cutting Game', 'Ingenuity-2', 'Cat, Fox and Double Maximum', 'Chess For Three', 'Circle Perimeter', 'Binary Cut']\n",
      "Problem Difficulties: ['1900', '1400', '1900', '1600', '1100', '1500', '2100', '1800', '1600', '2100', '1900', '1900', '1200', '1300', '1100', '1000', '1900', '1600', '1800', '1400', '1700', '1200', '1800', '900', '900', '1400', '1700', '900', '2000', '1100', '1400', '1200', '1700', '1200', '1800', '1600', '1400', '2000', '1600', '1300', '2000', '1600', '1100', '2100', '1900', '1400', '1700', '900', '1600', '1100']\n"
     ]
    }
   ],
   "source": [
    "# Initialize empty lists for IDs, titles, and difficulties\n",
    "problem_ids = []\n",
    "problem_titles = []\n",
    "problem_difficulties = []\n",
    "\n",
    "# Read the text file\n",
    "with open('C:\\git repos\\dsa_search_engine\\dataset\\Code-forces\\CF-implementation.txt', 'r') as file:  # Replace 'problems.txt' with your file name\n",
    "    for line in file:\n",
    "        # Strip whitespace and split by whitespace (could be spaces or tabs)\n",
    "        parts = line.strip().split()  # This splits by any whitespace\n",
    "\n",
    "        if len(parts) >= 3:  # Ensure there are enough parts\n",
    "            problem_id = parts[0]\n",
    "            problem_title = ' '.join(parts[1:-1])  # Join all but the last part for the title\n",
    "            problem_difficulty = parts[-1]  # Last part is the difficulty\n",
    "\n",
    "            # Append to the respective lists\n",
    "            problem_ids.append(problem_id)\n",
    "            problem_titles.append(problem_title)\n",
    "            problem_difficulties.append(problem_difficulty)\n",
    "\n",
    "# Example output\n",
    "print(\"Problem IDs:\", problem_ids)\n",
    "print(\"Problem Titles:\", problem_titles)\n",
    "print(\"Problem Difficulties:\", problem_difficulties)\n"
   ]
  },
  {
   "cell_type": "code",
   "execution_count": 62,
   "metadata": {},
   "outputs": [],
   "source": [
    "problem_links = []\n",
    "\n",
    "for id in problem_ids:\n",
    "    st = \"https://codeforces.com/problemset/problem/\"+ id[0:4] +\"/\"+ id[4:]\n",
    "    problem_links.append(st)"
   ]
  },
  {
   "cell_type": "code",
   "execution_count": 63,
   "metadata": {},
   "outputs": [
    {
     "data": {
      "text/plain": [
       "50"
      ]
     },
     "execution_count": 63,
     "metadata": {},
     "output_type": "execute_result"
    }
   ],
   "source": [
    "len(problem_titles)"
   ]
  },
  {
   "cell_type": "markdown",
   "metadata": {},
   "source": [
    "CODE CHEF"
   ]
  },
  {
   "cell_type": "code",
   "execution_count": 79,
   "metadata": {},
   "outputs": [
    {
     "name": "stdout",
     "output_type": "stream",
     "text": [
      "Problem IDs: ['SUMTRIAN', 'COINS', 'NAME2', 'ALTARAY', 'PLAYFIT', 'A1', 'MAXCOMP', 'BINARYSUB', 'PANSTACK', 'POGOSTCK', 'GRID', 'WEIRDSUBARR', 'CNPIIM', 'CHRL2', 'DISJOINTSUB', 'SUMQ', 'LUNCHTIM', 'TAAPLUSB', 'LEEXAMS', 'ADJXOR2', 'MINVOTE', 'CHEFSOC2', 'ASTRGAME', 'H1', 'TFALL', 'REIGN', 'BUCKETS', 'J2', 'B5', 'BOGOSORT', 'CHESSGM', 'POSSPEW', 'RBFLOWERS', 'SUB7NUM', 'OMAX', 'STDYTAB', 'DDISH', 'DIAMOND', 'G1', 'G2', 'NSA', 'PREPARE', 'HBEAR', 'TOOLS', 'SUB12OP', 'CHEFMGX', 'CARRAY', 'LWS', 'ROPASCI', 'LUCKY2']\n",
      "Problem Titles: ['Sums in a Triangle', 'Bytelandian gold coins', 'Your Name is Mine', 'Alternating subarray prefix', 'Fit to Play', 'Paying up', 'Event Organizer', 'Binary Substituition', 'Stacking Pancakes', 'Pogo Stick Competition', 'Sherlock and the Grid', 'Weird Subarrays', 'Counting Matrices', 'Chef and String', 'Disjoint Non-Decreasing Array', 'Triplets', 'Lunchtime', 'A Plus B Again!', 'Little Elephant and Exams', 'Adjacent Xors', 'Minions and Voting', 'Chef and Big Soccer', 'A String Game', 'A puzzle game', 'Double Trouble', 'Reign', 'Choosing from Buckets', 'The LCS Problem Revisited', 'Squash the Bugs', 'Bogosort', 'Chess Pushing Game', 'Positive Spewing', 'Red Blue Flowers', 'Subsequence-Numbers Divisible by 7', 'Omax', 'Steady tables', 'Delicious Dishes', 'Need More Diamonds', 'A Bowling Game', 'Smart Frog', 'No Strings Attached', 'Preparing Dishes', 'The Hungry Bear', 'Fetching Cooking Tools', 'Subtract 12 Operation', 'Chef and Magical Steps', 'Chef and Line', 'Longest Weird Subsequence', 'Rock Paper Scissors', 'Lucky Number']\n",
      "Problem Difficulties: ['869', '944', '1285', '1408', '1419', '1539', '1611', '1630', '1679', '1685', '1693', '1739', '1749', '1751', '1754', '1772', '1773', '1796', '1810', '1827', '1830', '1836', '1839', '1848', '1853', '1855', '1871', '1872', '1881', '1884', '1892', '1892', '1936', '1943', '1949', '1949', '1951', '1958', '1963', '1963', '1970', '1971', '1979', '1987', '1991', '2004', '2005', '2011', '2013', '2015']\n"
     ]
    }
   ],
   "source": [
    "problem_ids = []\n",
    "problem_titles = []\n",
    "problem_difficulties = []\n",
    "\n",
    "path = 'C:\\git repos\\dsa_search_engine\\dataset\\codechef\\cc-dp.txt'\n",
    "# Read the text file\n",
    "\n",
    "i = 1\n",
    "\n",
    "with open(path, 'r') as file:  # Replace 'problems.txt' with your file name\n",
    "    for line in file:\n",
    "        \n",
    "        i = i % 5\n",
    "\n",
    "        if(i == 1):\n",
    "            problem_ids.append(line[:-1])\n",
    "        elif(i == 2):\n",
    "            problem_titles.append(line[:-1])\n",
    "        elif(i == 4):\n",
    "            problem_difficulties.append(line[:-1])\n",
    "        else:\n",
    "            pass\n",
    "        \n",
    "        i += 1\n",
    "\n",
    "print(\"Problem IDs:\", problem_ids)\n",
    "print(\"Problem Titles:\", problem_titles)\n",
    "print(\"Problem Difficulties:\", problem_difficulties)"
   ]
  },
  {
   "cell_type": "code",
   "execution_count": 80,
   "metadata": {},
   "outputs": [
    {
     "name": "stdout",
     "output_type": "stream",
     "text": [
      "['https://www.codechef.com/problems/SUMTRIAN', 'https://www.codechef.com/problems/COINS', 'https://www.codechef.com/problems/NAME2', 'https://www.codechef.com/problems/ALTARAY', 'https://www.codechef.com/problems/PLAYFIT', 'https://www.codechef.com/problems/A1', 'https://www.codechef.com/problems/MAXCOMP', 'https://www.codechef.com/problems/BINARYSUB', 'https://www.codechef.com/problems/PANSTACK', 'https://www.codechef.com/problems/POGOSTCK', 'https://www.codechef.com/problems/GRID', 'https://www.codechef.com/problems/WEIRDSUBARR', 'https://www.codechef.com/problems/CNPIIM', 'https://www.codechef.com/problems/CHRL2', 'https://www.codechef.com/problems/DISJOINTSUB', 'https://www.codechef.com/problems/SUMQ', 'https://www.codechef.com/problems/LUNCHTIM', 'https://www.codechef.com/problems/TAAPLUSB', 'https://www.codechef.com/problems/LEEXAMS', 'https://www.codechef.com/problems/ADJXOR2', 'https://www.codechef.com/problems/MINVOTE', 'https://www.codechef.com/problems/CHEFSOC2', 'https://www.codechef.com/problems/ASTRGAME', 'https://www.codechef.com/problems/H1', 'https://www.codechef.com/problems/TFALL', 'https://www.codechef.com/problems/REIGN', 'https://www.codechef.com/problems/BUCKETS', 'https://www.codechef.com/problems/J2', 'https://www.codechef.com/problems/B5', 'https://www.codechef.com/problems/BOGOSORT', 'https://www.codechef.com/problems/CHESSGM', 'https://www.codechef.com/problems/POSSPEW', 'https://www.codechef.com/problems/RBFLOWERS', 'https://www.codechef.com/problems/SUB7NUM', 'https://www.codechef.com/problems/OMAX', 'https://www.codechef.com/problems/STDYTAB', 'https://www.codechef.com/problems/DDISH', 'https://www.codechef.com/problems/DIAMOND', 'https://www.codechef.com/problems/G1', 'https://www.codechef.com/problems/G2', 'https://www.codechef.com/problems/NSA', 'https://www.codechef.com/problems/PREPARE', 'https://www.codechef.com/problems/HBEAR', 'https://www.codechef.com/problems/TOOLS', 'https://www.codechef.com/problems/SUB12OP', 'https://www.codechef.com/problems/CHEFMGX', 'https://www.codechef.com/problems/CARRAY', 'https://www.codechef.com/problems/LWS', 'https://www.codechef.com/problems/ROPASCI', 'https://www.codechef.com/problems/LUCKY2']\n"
     ]
    }
   ],
   "source": [
    "problem_links = []\n",
    "for id in problem_ids:\n",
    "    st = \"https://www.codechef.com/problems/\" + id\n",
    "    problem_links.append(st)\n",
    "print(problem_links)"
   ]
  },
  {
   "cell_type": "markdown",
   "metadata": {},
   "source": [
    "GENERAL"
   ]
  },
  {
   "cell_type": "code",
   "execution_count": 70,
   "metadata": {},
   "outputs": [],
   "source": [
    "import json\n",
    "\n",
    "# Combine data into a list of dictionaries\n",
    "problems = []\n",
    "\n",
    "for i in range(len(problem_titles)):\n",
    "    problem = {\n",
    "        \"title\": problem_titles[i],\n",
    "        \"link\": problem_links[i],\n",
    "        \"tags\": \"greedy\",\n",
    "        \"difficulty\": difficulty[i],\n",
    "        \"platform\" : \"leetcode\"\n",
    "    }\n",
    "    problems.append(problem)\n",
    "    if(i > 50) :\n",
    "        break\n",
    "\n"
   ]
  },
  {
   "cell_type": "code",
   "execution_count": null,
   "metadata": {},
   "outputs": [],
   "source": []
  },
  {
   "cell_type": "code",
   "execution_count": 71,
   "metadata": {},
   "outputs": [
    {
     "name": "stdout",
     "output_type": "stream",
     "text": [
      "[{'title': 'container with most water', 'link': 'https://leetcode.com/problems/container-with-most-water/description/', 'tags': 'greedy', 'difficulty': 'Med.', 'platform': 'leetcode'}, {'title': 'wildcard matching', 'link': 'https://leetcode.com/problems/wildcard-matching/description/', 'tags': 'greedy', 'difficulty': 'Hard', 'platform': 'leetcode'}, {'title': 'jump game ii', 'link': 'https://leetcode.com/problems/jump-game-ii/description/', 'tags': 'greedy', 'difficulty': 'Med.', 'platform': 'leetcode'}, {'title': 'jump game', 'link': 'https://leetcode.com/problems/jump-game/description/', 'tags': 'greedy', 'difficulty': 'Med.', 'platform': 'leetcode'}, {'title': 'best time to buy and sell stock ii', 'link': 'https://leetcode.com/problems/best-time-to-buy-and-sell-stock-ii/description/', 'tags': 'greedy', 'difficulty': 'Med.', 'platform': 'leetcode'}, {'title': 'gas station', 'link': 'https://leetcode.com/problems/gas-station/description/', 'tags': 'greedy', 'difficulty': 'Med.', 'platform': 'leetcode'}, {'title': 'candy', 'link': 'https://leetcode.com/problems/candy/description/', 'tags': 'greedy', 'difficulty': 'Hard', 'platform': 'leetcode'}, {'title': 'largest number', 'link': 'https://leetcode.com/problems/largest-number/description/', 'tags': 'greedy', 'difficulty': 'Med.', 'platform': 'leetcode'}, {'title': 'meeting rooms ii', 'link': 'https://leetcode.com/problems/meeting-rooms-ii/description/', 'tags': 'greedy', 'difficulty': 'Med.', 'platform': 'leetcode'}, {'title': 'wiggle sort', 'link': 'https://leetcode.com/problems/wiggle-sort/description/', 'tags': 'greedy', 'difficulty': 'Med.', 'platform': 'leetcode'}, {'title': 'remove duplicate letters', 'link': 'https://leetcode.com/problems/remove-duplicate-letters/description/', 'tags': 'greedy', 'difficulty': 'Med.', 'platform': 'leetcode'}, {'title': 'create maximum number', 'link': 'https://leetcode.com/problems/create-maximum-number/description/', 'tags': 'greedy', 'difficulty': 'Hard', 'platform': 'leetcode'}, {'title': 'wiggle sort ii', 'link': 'https://leetcode.com/problems/wiggle-sort-ii/description/', 'tags': 'greedy', 'difficulty': 'Med.', 'platform': 'leetcode'}, {'title': 'patching array', 'link': 'https://leetcode.com/problems/patching-array/description/', 'tags': 'greedy', 'difficulty': 'Hard', 'platform': 'leetcode'}, {'title': 'increasing triplet subsequence', 'link': 'https://leetcode.com/problems/increasing-triplet-subsequence/description/', 'tags': 'greedy', 'difficulty': 'Med.', 'platform': 'leetcode'}, {'title': 'rearrange string k distance apart', 'link': 'https://leetcode.com/problems/rearrange-string-k-distance-apart/description/', 'tags': 'greedy', 'difficulty': 'Hard', 'platform': 'leetcode'}, {'title': 'wiggle subsequence', 'link': 'https://leetcode.com/problems/wiggle-subsequence/description/', 'tags': 'greedy', 'difficulty': 'Med.', 'platform': 'leetcode'}, {'title': 'integer replacement', 'link': 'https://leetcode.com/problems/integer-replacement/description/', 'tags': 'greedy', 'difficulty': 'Med.', 'platform': 'leetcode'}, {'title': 'remove k digits', 'link': 'https://leetcode.com/problems/remove-k-digits/description/', 'tags': 'greedy', 'difficulty': 'Med.', 'platform': 'leetcode'}, {'title': 'longest palindrome', 'link': 'https://leetcode.com/problems/longest-palindrome/description/', 'tags': 'greedy', 'difficulty': 'Easy', 'platform': 'leetcode'}, {'title': 'split array largest sum', 'link': 'https://leetcode.com/problems/split-array-largest-sum/description/', 'tags': 'greedy', 'difficulty': 'Hard', 'platform': 'leetcode'}, {'title': 'strong password checker', 'link': 'https://leetcode.com/problems/strong-password-checker/description/', 'tags': 'greedy', 'difficulty': 'Hard', 'platform': 'leetcode'}, {'title': 'non-overlapping intervals', 'link': 'https://leetcode.com/problems/nonoverlapping-intervals/description/', 'tags': 'greedy', 'difficulty': 'Med.', 'platform': 'leetcode'}, {'title': 'minimum number of arrows to burst balloons', 'link': 'https://leetcode.com/problems/minimum-number-of-arrows-to-burst-balloons/description/', 'tags': 'greedy', 'difficulty': 'Med.', 'platform': 'leetcode'}, {'title': 'assign cookies', 'link': 'https://leetcode.com/problems/assign-cookies/description/', 'tags': 'greedy', 'difficulty': 'Easy', 'platform': 'leetcode'}, {'title': 'find permutation', 'link': 'https://leetcode.com/problems/find-permutation/description/', 'tags': 'greedy', 'difficulty': 'Med.', 'platform': 'leetcode'}, {'title': 'ipo', 'link': 'https://leetcode.com/problems/ipo/description/', 'tags': 'greedy', 'difficulty': 'Hard', 'platform': 'leetcode'}, {'title': 'super washing machines', 'link': 'https://leetcode.com/problems/super-washing-machines/description/', 'tags': 'greedy', 'difficulty': 'Hard', 'platform': 'leetcode'}, {'title': 'word abbreviation', 'link': 'https://leetcode.com/problems/word-abbreviation/description/', 'tags': 'greedy', 'difficulty': 'Hard', 'platform': 'leetcode'}, {'title': 'split concatenated strings', 'link': 'https://leetcode.com/problems/split-concatenated-strings/description/', 'tags': 'greedy', 'difficulty': 'Med.', 'platform': 'leetcode'}, {'title': 'array partition', 'link': 'https://leetcode.com/problems/array-partition/description/', 'tags': 'greedy', 'difficulty': 'Easy', 'platform': 'leetcode'}, {'title': 'shortest unsorted continuous subarray', 'link': 'https://leetcode.com/problems/shortest-unsorted-continuous-subarray/description/', 'tags': 'greedy', 'difficulty': 'Med.', 'platform': 'leetcode'}, {'title': 'can place flowers', 'link': 'https://leetcode.com/problems/can-place-flowers/description/', 'tags': 'greedy', 'difficulty': 'Easy', 'platform': 'leetcode'}, {'title': 'valid triangle number', 'link': 'https://leetcode.com/problems/valid-triangle-number/description/', 'tags': 'greedy', 'difficulty': 'Med.', 'platform': 'leetcode'}, {'title': 'task scheduler', 'link': 'https://leetcode.com/problems/task-scheduler/description/', 'tags': 'greedy', 'difficulty': 'Med.', 'platform': 'leetcode'}, {'title': 'maximum distance in arrays', 'link': 'https://leetcode.com/problems/maximum-distance-in-arrays/description/', 'tags': 'greedy', 'difficulty': 'Med.', 'platform': 'leetcode'}, {'title': 'minimum factorization', 'link': 'https://leetcode.com/problems/minimum-factorization/description/', 'tags': 'greedy', 'difficulty': 'Med.', 'platform': 'leetcode'}, {'title': 'course schedule iii', 'link': 'https://leetcode.com/problems/course-schedule-iii/description/', 'tags': 'greedy', 'difficulty': 'Hard', 'platform': 'leetcode'}, {'title': 'smallest range covering elements from k lists', 'link': 'https://leetcode.com/problems/smallest-range-covering-elements-from-k-lists/description/', 'tags': 'greedy', 'difficulty': 'Hard', 'platform': 'leetcode'}, {'title': 'maximum length of pair chain', 'link': 'https://leetcode.com/problems/maximum-length-of-pair-chain/description/', 'tags': 'greedy', 'difficulty': 'Med.', 'platform': 'leetcode'}, {'title': 'dota2 senate', 'link': 'https://leetcode.com/problems/dota-senate/description/', 'tags': 'greedy', 'difficulty': 'Med.', 'platform': 'leetcode'}, {'title': 'split array into consecutive subsequences', 'link': 'https://leetcode.com/problems/split-array-into-consecutive-subsequences/description/', 'tags': 'greedy', 'difficulty': 'Med.', 'platform': 'leetcode'}, {'title': 'maximum swap', 'link': 'https://leetcode.com/problems/maximum-swap/description/', 'tags': 'greedy', 'difficulty': 'Med.', 'platform': 'leetcode'}, {'title': 'valid parenthesis string', 'link': 'https://leetcode.com/problems/valid-parenthesis-string/description/', 'tags': 'greedy', 'difficulty': 'Med.', 'platform': 'leetcode'}, {'title': 'valid palindrome ii', 'link': 'https://leetcode.com/problems/valid-palindrome-ii/description/', 'tags': 'greedy', 'difficulty': 'Easy', 'platform': 'leetcode'}, {'title': 'best time to buy and sell stock with transaction fee', 'link': 'https://leetcode.com/problems/best-time-to-buy-and-sell-stock-with-transaction-fee/description/', 'tags': 'greedy', 'difficulty': 'Med.', 'platform': 'leetcode'}, {'title': 'monotone increasing digits', 'link': 'https://leetcode.com/problems/monotone-increasing-digits/description/', 'tags': 'greedy', 'difficulty': 'Med.', 'platform': 'leetcode'}, {'title': 'set intersection size at least two', 'link': 'https://leetcode.com/problems/set-intersection-size-at-least-two/description/', 'tags': 'greedy', 'difficulty': 'Hard', 'platform': 'leetcode'}, {'title': 'partition labels', 'link': 'https://leetcode.com/problems/partition-labels/description/', 'tags': 'greedy', 'difficulty': 'Med.', 'platform': 'leetcode'}, {'title': 'couples holding hands', 'link': 'https://leetcode.com/problems/couples-holding-hands/description/', 'tags': 'greedy', 'difficulty': 'Hard', 'platform': 'leetcode'}, {'title': 'reorganize string', 'link': 'https://leetcode.com/problems/reorganize-string/description/', 'tags': 'greedy', 'difficulty': 'Med.', 'platform': 'leetcode'}, {'title': 'max chunks to make sorted ii', 'link': 'https://leetcode.com/problems/max-chunks-to-make-sorted-ii/description/', 'tags': 'greedy', 'difficulty': 'Hard', 'platform': 'leetcode'}]\n"
     ]
    }
   ],
   "source": [
    "print(problems)"
   ]
  },
  {
   "cell_type": "code",
   "execution_count": 72,
   "metadata": {},
   "outputs": [],
   "source": [
    "import json\n",
    "import os\n",
    "\n",
    "\n",
    "# Step 1: Read existing data from the JSON file\n",
    "file_path = r\"C:\\git repos\\dsa_search_engine\\dataset\\djson\\greedy.json\"\n",
    "\n",
    "if os.path.exists(file_path):\n",
    "    with open(file_path, 'r') as json_file:\n",
    "        old_problems = json.load(json_file)  # Load existing problems\n",
    "else:\n",
    "    old_problems = []  # Initialize an empty list if file does not exist\n",
    "\n",
    "# Step 2: Append new problems to the existing list\n",
    "old_problems.extend(problems)\n",
    "\n",
    "# Step 3: Write the updated list back to the JSON file\n",
    "with open(file_path, 'w') as json_file:\n",
    "    json.dump(old_problems, json_file, indent=4)  # Save with pretty printing\n"
   ]
  },
  {
   "cell_type": "code",
   "execution_count": null,
   "metadata": {},
   "outputs": [],
   "source": []
  }
 ],
 "metadata": {
  "kernelspec": {
   "display_name": "Python 3",
   "language": "python",
   "name": "python3"
  },
  "language_info": {
   "codemirror_mode": {
    "name": "ipython",
    "version": 3
   },
   "file_extension": ".py",
   "mimetype": "text/x-python",
   "name": "python",
   "nbconvert_exporter": "python",
   "pygments_lexer": "ipython3",
   "version": "3.11.2"
  }
 },
 "nbformat": 4,
 "nbformat_minor": 2
}
