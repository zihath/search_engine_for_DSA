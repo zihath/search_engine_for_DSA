{
 "cells": [
  {
   "cell_type": "code",
   "execution_count": 1,
   "metadata": {},
   "outputs": [],
   "source": [
    "from pymongo import MongoClient\n",
    "\n",
    "client = MongoClient('mongodb://localhost:27017/')\n",
    "db = client['search_engine']\n",
    "collection = db['problems']\n"
   ]
  },
  {
   "cell_type": "code",
   "execution_count": 2,
   "metadata": {},
   "outputs": [],
   "source": [
    "from sklearn.feature_extraction.text import TfidfVectorizer\n",
    "\n",
    "# Retrieve all problem titles from MongoDB\n",
    "documents = collection.find({}, {\"title\": 1})\n",
    "titles = [doc['title'] for doc in documents]\n",
    "\n"
   ]
  },
  {
   "cell_type": "code",
   "execution_count": 3,
   "metadata": {},
   "outputs": [],
   "source": [
    "vectorizer = TfidfVectorizer()\n",
    "tfidf_matrix = vectorizer.fit_transform(titles)\n",
    "\n",
    "# Store TF-IDF matrix in MongoDB\n",
    "# tfidf_data = {\n",
    "#     \"tfidf_matrix\": tfidf_matrix.toarray().tolist(),\n",
    "#     \"feature_names\": vectorizer.get_feature_names_out().tolist()\n",
    "# }\n",
    "# db['tfidf'].insert_one(tfidf_data)\n"
   ]
  },
  {
   "cell_type": "code",
   "execution_count": 4,
   "metadata": {},
   "outputs": [],
   "source": [
    "document_ids = [doc['_id'] for doc in collection.find({})]"
   ]
  },
  {
   "cell_type": "code",
   "execution_count": 5,
   "metadata": {},
   "outputs": [],
   "source": [
    "def search_problems(query, n=10):\n",
    "    # Transform the query into a TF-IDF vector\n",
    "    query_vector = vectorizer.transform([query])\n",
    "    \n",
    "    # Calculate similarity scores for each document in the TF-IDF matrix\n",
    "    scores = (query_vector * tfidf_matrix.T).toarray()[0]\n",
    "    \n",
    "    # Get the indices of the top `n` relevant documents\n",
    "    relevant_indices = scores.argsort()[-n:][::-1]\n",
    "\n",
    "    # Fetch documents by IDs for the top relevant indices\n",
    "    relevant_problems = []\n",
    "    for idx in relevant_indices:\n",
    "        problem = collection.find_one({'_id': document_ids[idx]}) \n",
    "        if problem:\n",
    "            relevant_problems.append(problem)\n",
    "\n",
    "    # Display the relevant problems\n",
    "    for problem in relevant_problems:\n",
    "        print(f\"Title: {problem['title']}, Link: {problem['link']}, Difficulty: {problem['difficulty']}\")\n"
   ]
  },
  {
   "cell_type": "code",
   "execution_count": 6,
   "metadata": {},
   "outputs": [
    {
     "name": "stdout",
     "output_type": "stream",
     "text": [
      "Title: maximum sum of two non-overlapping subarrays, Link: https://leetcode.com/problems/maximum-sum-of-two-nonoverlapping-subarrays/description/, Difficulty: Med.\n",
      "Title: two sum ii - input array is sorted, Link: https://leetcode.com/problems/two-sum-ii-input-array-is-sorted/description/, Difficulty: Med.\n",
      "Title: minimum ascii delete sum for two strings, Link: https://leetcode.com/problems/minimum-ascii-delete-sum-for-two-strings/description/, Difficulty: Med.\n",
      "Title: intersection of two arrays, Link: https://leetcode.com/problems/intersection-of-two-arrays/description/, Difficulty: Easy\n",
      "Title: intersection of two arrays ii, Link: https://leetcode.com/problems/intersection-of-two-arrays-ii/description/, Difficulty: Easy\n",
      "Title: median of two sorted arrays, Link: https://leetcode.com/problems/median-of-two-sorted-arrays/description/, Difficulty: Hard\n",
      "Title: target sum, Link: https://leetcode.com/problems/target-sum/description/, Difficulty: Med.\n",
      "Title: delete operation for two strings, Link: https://leetcode.com/problems/delete-operation-for-two-strings/description/, Difficulty: Med.\n",
      "Title: minimum path sum, Link: https://leetcode.com/problems/minimum-path-sum/description/, Difficulty: Med.\n",
      "Title: Maximum Alternating Sum, Link: https://www.codechef.com/problems/MXALT, Difficulty: 1111\n"
     ]
    }
   ],
   "source": [
    "search_problems(\"two sum\")"
   ]
  },
  {
   "cell_type": "code",
   "execution_count": 12,
   "metadata": {},
   "outputs": [
    {
     "name": "stdout",
     "output_type": "stream",
     "text": [
      "(1, 735)\n"
     ]
    }
   ],
   "source": [
    "query_vector = vectorizer.transform([\"two sum\"])\n",
    "print(query_vector.shape)"
   ]
  },
  {
   "cell_type": "code",
   "execution_count": 95,
   "metadata": {},
   "outputs": [
    {
     "data": {
      "text/plain": [
       "(572, 735)"
      ]
     },
     "execution_count": 95,
     "metadata": {},
     "output_type": "execute_result"
    }
   ],
   "source": [
    "tfidf_matrix.shape"
   ]
  },
  {
   "cell_type": "code",
   "execution_count": 96,
   "metadata": {},
   "outputs": [],
   "source": [
    "documents = collection.find({}, {\"title\": 1})\n",
    "titles = [doc['title'] for doc in documents]\n",
    "\n",
    "vectorizer = TfidfVectorizer()\n",
    "tfidf_matrix = vectorizer.fit_transform(titles)"
   ]
  },
  {
   "cell_type": "code",
   "execution_count": null,
   "metadata": {},
   "outputs": [],
   "source": []
  }
 ],
 "metadata": {
  "kernelspec": {
   "display_name": "Python 3",
   "language": "python",
   "name": "python3"
  },
  "language_info": {
   "codemirror_mode": {
    "name": "ipython",
    "version": 3
   },
   "file_extension": ".py",
   "mimetype": "text/x-python",
   "name": "python",
   "nbconvert_exporter": "python",
   "pygments_lexer": "ipython3",
   "version": "3.11.2"
  }
 },
 "nbformat": 4,
 "nbformat_minor": 2
}
